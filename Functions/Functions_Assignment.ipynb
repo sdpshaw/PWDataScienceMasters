{
 "cells": [
  {
   "cell_type": "markdown",
   "id": "32eb8454-eb19-4e27-ba74-97c25f9078c1",
   "metadata": {},
   "source": [
    "# Q1. Which keyword is used to create a function? Create a function to return a list of odd numbers in the range of 1 to 25."
   ]
  },
  {
   "cell_type": "code",
   "execution_count": 35,
   "id": "0423ab87-eb51-4b92-a3db-54c551b32f21",
   "metadata": {},
   "outputs": [],
   "source": [
    "# Which keyword is used to create a function:  def is used to create a function for example\n",
    "def example():\n",
    "    print('Sandip')"
   ]
  },
  {
   "cell_type": "code",
   "execution_count": 36,
   "id": "a4b742ac-c50c-4ad4-baeb-d41c4ab29986",
   "metadata": {},
   "outputs": [
    {
     "name": "stdout",
     "output_type": "stream",
     "text": [
      "Sandip\n"
     ]
    }
   ],
   "source": [
    "example() # function example printed 'Sandip'"
   ]
  },
  {
   "cell_type": "code",
   "execution_count": 37,
   "id": "7c8f246e-4abd-4ead-8a97-487de48abba6",
   "metadata": {},
   "outputs": [],
   "source": [
    "# Create a function to return a list of odd numbers in the range of 1 to 25\n",
    "def odd_num():\n",
    "    for i in range(25):\n",
    "        if i % 2:\n",
    "            print(i)"
   ]
  },
  {
   "cell_type": "code",
   "execution_count": 38,
   "id": "687a0add-8e78-44ac-a987-d2741ce3c2bd",
   "metadata": {},
   "outputs": [
    {
     "name": "stdout",
     "output_type": "stream",
     "text": [
      "1\n",
      "3\n",
      "5\n",
      "7\n",
      "9\n",
      "11\n",
      "13\n",
      "15\n",
      "17\n",
      "19\n",
      "21\n",
      "23\n"
     ]
    }
   ],
   "source": [
    "odd_num() # It will print odd numbers in the range 1 to 25"
   ]
  },
  {
   "cell_type": "markdown",
   "id": "e4410f86-0fbe-4d75-8a26-272bb24d9b2c",
   "metadata": {},
   "source": [
    "## Q2. Why *args and **kwargs is used in some functions? Create a function each for *args and **kwargs to demonstrate their use."
   ]
  },
  {
   "cell_type": "markdown",
   "id": "47fe0d02-8a17-4011-8048-975750fab7ee",
   "metadata": {},
   "source": [
    "*args : It is used to pass multiple arguments to a funtion <br>\n",
    "**kwargs : It is used to pass multiple keyworded arguments to a function "
   ]
  },
  {
   "cell_type": "code",
   "execution_count": 39,
   "id": "0426c080-1a20-461f-9828-6179518bb6db",
   "metadata": {},
   "outputs": [],
   "source": [
    "# *args Example\n",
    "def example_args(*args):\n",
    "    return args"
   ]
  },
  {
   "cell_type": "code",
   "execution_count": 40,
   "id": "1eb85257-4d23-481a-90e5-40dfa518d20c",
   "metadata": {},
   "outputs": [
    {
     "data": {
      "text/plain": [
       "(1, 2, 3, 4, 5, 6, 'Sandip', [2, 3])"
      ]
     },
     "execution_count": 40,
     "metadata": {},
     "output_type": "execute_result"
    }
   ],
   "source": [
    "example_args(1,2,3,4,5,6,'Sandip',[2,3]) # it returns a tuple"
   ]
  },
  {
   "cell_type": "code",
   "execution_count": 41,
   "id": "73605523-b1e7-41f6-a94f-d7e2dffa53c7",
   "metadata": {},
   "outputs": [],
   "source": [
    "# *kwargs Example\n",
    "def example_kwargs(**kwargs):\n",
    "    return kwargs"
   ]
  },
  {
   "cell_type": "code",
   "execution_count": 42,
   "id": "7cbf81f2-f7cd-440f-a79e-e6ab9ffcbf7e",
   "metadata": {},
   "outputs": [
    {
     "data": {
      "text/plain": [
       "{'name': 'Sandip', 'age': 23, 'address': 'Kolkata'}"
      ]
     },
     "execution_count": 42,
     "metadata": {},
     "output_type": "execute_result"
    }
   ],
   "source": [
    "example_kwargs(name= 'Sandip', age = 23, address = 'Kolkata') # it will return a dictionary"
   ]
  },
  {
   "cell_type": "markdown",
   "id": "a86453ee-339f-42d3-bddf-c894a1ea16e3",
   "metadata": {},
   "source": [
    "## Q3. What is an iterator in python? Name the method used to initialise the iterator object and the method used for iteration. Use these methods to print the first five elements of the given list [2, 4, 6, 8, 10, 12, 14, 16,18, 20]."
   ]
  },
  {
   "cell_type": "markdown",
   "id": "3022dd77-e927-4ba8-808c-1c275276a52d",
   "metadata": {},
   "source": [
    "It is an object to iterate over a list, dict, tuple, etc. It uses iter() method to initialise the iterator object  and next() method is used for <br> iteration"
   ]
  },
  {
   "cell_type": "code",
   "execution_count": 43,
   "id": "dc50cd37-dc7d-4187-8aa5-6e33d74600a2",
   "metadata": {},
   "outputs": [
    {
     "name": "stdout",
     "output_type": "stream",
     "text": [
      "2\n",
      "4\n",
      "6\n",
      "8\n",
      "10\n"
     ]
    }
   ],
   "source": [
    "# Use these methods to print the first five elements of the given list [2, 4, 6, 8, 10, 12, 14, 16,18, 20]\n",
    "\n",
    "l = [2, 4, 6, 8, 10, 12, 14, 16,18, 20]\n",
    "itr = iter(l)\n",
    "for i in range(5):\n",
    "    print(next(itr))"
   ]
  },
  {
   "cell_type": "markdown",
   "id": "38506b50-2dee-4da6-905e-575b4d74c11d",
   "metadata": {},
   "source": [
    "## Q4. What is a generator function in python? Why yield keyword is used? Give an example of a generator function."
   ]
  },
  {
   "cell_type": "markdown",
   "id": "7ddcf910-03dd-404e-b04f-0e7d55bd2b99",
   "metadata": {},
   "source": [
    "# What is a generator function in python?\n",
    "It is a memory efficient method in which it which instead of returning the result, it will return an obejct\n",
    "i.e. iterator. We can iterate over this object and produce the specified result.\n",
    "# Why yield keyword is used?\n",
    "yeild is used to produce the result to the called method and save the current state of the function"
   ]
  },
  {
   "cell_type": "code",
   "execution_count": 44,
   "id": "766e7e81-9e49-4a74-943c-bb910ab5c091",
   "metadata": {},
   "outputs": [],
   "source": [
    "# Give an example of a generator function\n",
    "def generator_example():\n",
    "    for i in range(5):\n",
    "        yield i*i"
   ]
  },
  {
   "cell_type": "code",
   "execution_count": 45,
   "id": "75c9c9c5-e1f9-4c7c-b935-1992e8a772a6",
   "metadata": {},
   "outputs": [
    {
     "name": "stdout",
     "output_type": "stream",
     "text": [
      "0\n",
      "1\n",
      "4\n",
      "9\n",
      "16\n"
     ]
    }
   ],
   "source": [
    "for i in generator_example():\n",
    "    print(i)"
   ]
  },
  {
   "cell_type": "markdown",
   "id": "319af4d1-7189-406d-ab53-9b44612cadfc",
   "metadata": {},
   "source": [
    "## Q5. Create a generator function for prime numbers less than 1000. Use the next() method to print the first 20 prime numbers."
   ]
  },
  {
   "cell_type": "code",
   "execution_count": 46,
   "id": "0282e1d3-b75f-4e12-9007-36c578f90abb",
   "metadata": {},
   "outputs": [],
   "source": [
    "def prime_num(n):\n",
    "    for i in range(2,n):\n",
    "        flag = True\n",
    "        for j in range(2,i-1):\n",
    "            if i%j == 0:\n",
    "                flag = False\n",
    "                break\n",
    "        if flag:\n",
    "            yield i"
   ]
  },
  {
   "cell_type": "code",
   "execution_count": 47,
   "id": "46eb3b57-9de5-4e8e-854d-95182fa64673",
   "metadata": {},
   "outputs": [
    {
     "name": "stdout",
     "output_type": "stream",
     "text": [
      "2\n",
      "3\n",
      "5\n",
      "7\n",
      "11\n",
      "13\n",
      "17\n",
      "19\n",
      "23\n",
      "29\n",
      "31\n",
      "37\n",
      "41\n",
      "43\n",
      "47\n",
      "53\n",
      "59\n",
      "61\n",
      "67\n",
      "71\n"
     ]
    }
   ],
   "source": [
    "genPrime = prime_num(1000)\n",
    "for i in range(20):\n",
    "    print(next(genPrime))"
   ]
  },
  {
   "cell_type": "code",
   "execution_count": null,
   "id": "a85611ef-3320-45d3-9504-6576be3384a1",
   "metadata": {},
   "outputs": [],
   "source": []
  }
 ],
 "metadata": {
  "kernelspec": {
   "display_name": "Python 3 (ipykernel)",
   "language": "python",
   "name": "python3"
  },
  "language_info": {
   "codemirror_mode": {
    "name": "ipython",
    "version": 3
   },
   "file_extension": ".py",
   "mimetype": "text/x-python",
   "name": "python",
   "nbconvert_exporter": "python",
   "pygments_lexer": "ipython3",
   "version": "3.10.8"
  }
 },
 "nbformat": 4,
 "nbformat_minor": 5
}
